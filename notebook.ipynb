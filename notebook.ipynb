{
 "cells": [
  {
   "cell_type": "code",
   "execution_count": 2,
   "metadata": {},
   "outputs": [
    {
     "name": "stdout",
     "output_type": "stream",
     "text": [
      "Collecting nltk\n",
      "  Downloading nltk-3.8.1-py3-none-any.whl (1.5 MB)\n",
      "\u001b[2K     \u001b[90m━━━━━━━━━━━━━━━━━━━━━━━━━━━━━━━━━━━━━━━━\u001b[0m \u001b[32m1.5/1.5 MB\u001b[0m \u001b[31m11.7 MB/s\u001b[0m eta \u001b[36m0:00:00\u001b[0ma \u001b[36m0:00:01\u001b[0m\n",
      "\u001b[?25hCollecting click (from nltk)\n",
      "  Downloading click-8.1.7-py3-none-any.whl.metadata (3.0 kB)\n",
      "Requirement already satisfied: joblib in /opt/homebrew/lib/python3.11/site-packages (from nltk) (1.3.2)\n",
      "Collecting regex>=2021.8.3 (from nltk)\n",
      "  Downloading regex-2023.12.25-cp311-cp311-macosx_11_0_arm64.whl.metadata (40 kB)\n",
      "\u001b[2K     \u001b[90m━━━━━━━━━━━━━━━━━━━━━━━━━━━━━━━━━━━━━━━━\u001b[0m \u001b[32m40.9/40.9 kB\u001b[0m \u001b[31m5.5 MB/s\u001b[0m eta \u001b[36m0:00:00\u001b[0m\n",
      "\u001b[?25hRequirement already satisfied: tqdm in /opt/homebrew/lib/python3.11/site-packages (from nltk) (4.66.1)\n",
      "Downloading regex-2023.12.25-cp311-cp311-macosx_11_0_arm64.whl (291 kB)\n",
      "\u001b[2K   \u001b[90m━━━━━━━━━━━━━━━━━━━━━━━━━━━━━━━━━━━━━━━━\u001b[0m \u001b[32m291.0/291.0 kB\u001b[0m \u001b[31m23.7 MB/s\u001b[0m eta \u001b[36m0:00:00\u001b[0m\n",
      "\u001b[?25hDownloading click-8.1.7-py3-none-any.whl (97 kB)\n",
      "\u001b[2K   \u001b[90m━━━━━━━━━━━━━━━━━━━━━━━━━━━━━━━━━━━━━━━━\u001b[0m \u001b[32m97.9/97.9 kB\u001b[0m \u001b[31m16.0 MB/s\u001b[0m eta \u001b[36m0:00:00\u001b[0m\n",
      "\u001b[?25hInstalling collected packages: regex, click, nltk\n",
      "Successfully installed click-8.1.7 nltk-3.8.1 regex-2023.12.25\n",
      "\n",
      "\u001b[1m[\u001b[0m\u001b[34;49mnotice\u001b[0m\u001b[1;39;49m]\u001b[0m\u001b[39;49m A new release of pip is available: \u001b[0m\u001b[31;49m23.3.1\u001b[0m\u001b[39;49m -> \u001b[0m\u001b[32;49m23.3.2\u001b[0m\n",
      "\u001b[1m[\u001b[0m\u001b[34;49mnotice\u001b[0m\u001b[1;39;49m]\u001b[0m\u001b[39;49m To update, run: \u001b[0m\u001b[32;49mpython3.11 -m pip install --upgrade pip\u001b[0m\n",
      "Note: you may need to restart the kernel to use updated packages.\n"
     ]
    }
   ],
   "source": [
    "%pip install nltk"
   ]
  },
  {
   "cell_type": "code",
   "execution_count": 2,
   "metadata": {},
   "outputs": [],
   "source": [
    "import numpy as np\n",
    "import matplotlib.pyplot as plt\n",
    "import pandas as pd\n",
    "import re\n",
    "import random\n",
    "import string\n",
    "\n",
    "import nltk\n",
    "from nltk.corpus import stopwords\n",
    "from nltk.stem import PorterStemmer"
   ]
  },
  {
   "cell_type": "code",
   "execution_count": 3,
   "metadata": {},
   "outputs": [],
   "source": [
    "# Load csv file\n",
    "df = pd.read_csv('testing-song-lyrics.csv')"
   ]
  },
  {
   "cell_type": "code",
   "execution_count": 4,
   "metadata": {},
   "outputs": [
    {
     "name": "stdout",
     "output_type": "stream",
     "text": [
      "number of songs: 12295\n"
     ]
    },
    {
     "data": {
      "text/html": [
       "<div>\n",
       "<style scoped>\n",
       "    .dataframe tbody tr th:only-of-type {\n",
       "        vertical-align: middle;\n",
       "    }\n",
       "\n",
       "    .dataframe tbody tr th {\n",
       "        vertical-align: top;\n",
       "    }\n",
       "\n",
       "    .dataframe thead th {\n",
       "        text-align: right;\n",
       "    }\n",
       "</style>\n",
       "<table border=\"1\" class=\"dataframe\">\n",
       "  <thead>\n",
       "    <tr style=\"text-align: right;\">\n",
       "      <th></th>\n",
       "      <th>title</th>\n",
       "      <th>tag</th>\n",
       "      <th>artist</th>\n",
       "      <th>year</th>\n",
       "      <th>views</th>\n",
       "      <th>features</th>\n",
       "      <th>lyrics</th>\n",
       "      <th>id</th>\n",
       "      <th>language_cld3</th>\n",
       "      <th>language_ft</th>\n",
       "      <th>language</th>\n",
       "    </tr>\n",
       "  </thead>\n",
       "  <tbody>\n",
       "    <tr>\n",
       "      <th>0</th>\n",
       "      <td>Killa Cam</td>\n",
       "      <td>rap</td>\n",
       "      <td>Cam'ron</td>\n",
       "      <td>2004</td>\n",
       "      <td>173166</td>\n",
       "      <td>{\"Cam\\\\'ron\",\"Opera Steve\"}</td>\n",
       "      <td>[Chorus: Opera Steve &amp; Cam'ron]\\nKilla Cam, Ki...</td>\n",
       "      <td>1</td>\n",
       "      <td>en</td>\n",
       "      <td>en</td>\n",
       "      <td>en</td>\n",
       "    </tr>\n",
       "    <tr>\n",
       "      <th>1</th>\n",
       "      <td>Can I Live</td>\n",
       "      <td>rap</td>\n",
       "      <td>JAY-Z</td>\n",
       "      <td>1996</td>\n",
       "      <td>468624</td>\n",
       "      <td>{}</td>\n",
       "      <td>[Produced by Irv Gotti]\\n\\n[Intro]\\nYeah, hah,...</td>\n",
       "      <td>3</td>\n",
       "      <td>en</td>\n",
       "      <td>en</td>\n",
       "      <td>en</td>\n",
       "    </tr>\n",
       "    <tr>\n",
       "      <th>2</th>\n",
       "      <td>Forgive Me Father</td>\n",
       "      <td>rap</td>\n",
       "      <td>Fabolous</td>\n",
       "      <td>2003</td>\n",
       "      <td>4743</td>\n",
       "      <td>{}</td>\n",
       "      <td>Maybe cause I'm eatin\\nAnd these bastards fien...</td>\n",
       "      <td>4</td>\n",
       "      <td>en</td>\n",
       "      <td>en</td>\n",
       "      <td>en</td>\n",
       "    </tr>\n",
       "    <tr>\n",
       "      <th>3</th>\n",
       "      <td>Down and Out</td>\n",
       "      <td>rap</td>\n",
       "      <td>Cam'ron</td>\n",
       "      <td>2004</td>\n",
       "      <td>144404</td>\n",
       "      <td>{\"Cam\\\\'ron\",\"Kanye West\",\"Syleena Johnson\"}</td>\n",
       "      <td>[Produced by Kanye West and Brian Miller]\\n\\n[...</td>\n",
       "      <td>5</td>\n",
       "      <td>en</td>\n",
       "      <td>en</td>\n",
       "      <td>en</td>\n",
       "    </tr>\n",
       "    <tr>\n",
       "      <th>4</th>\n",
       "      <td>Fly In</td>\n",
       "      <td>rap</td>\n",
       "      <td>Lil Wayne</td>\n",
       "      <td>2005</td>\n",
       "      <td>78271</td>\n",
       "      <td>{}</td>\n",
       "      <td>[Intro]\\nSo they ask me\\n\"Young boy\\nWhat you ...</td>\n",
       "      <td>6</td>\n",
       "      <td>en</td>\n",
       "      <td>en</td>\n",
       "      <td>en</td>\n",
       "    </tr>\n",
       "  </tbody>\n",
       "</table>\n",
       "</div>"
      ],
      "text/plain": [
       "               title  tag     artist  year   views  \\\n",
       "0          Killa Cam  rap    Cam'ron  2004  173166   \n",
       "1         Can I Live  rap      JAY-Z  1996  468624   \n",
       "2  Forgive Me Father  rap   Fabolous  2003    4743   \n",
       "3       Down and Out  rap    Cam'ron  2004  144404   \n",
       "4             Fly In  rap  Lil Wayne  2005   78271   \n",
       "\n",
       "                                       features  \\\n",
       "0                   {\"Cam\\\\'ron\",\"Opera Steve\"}   \n",
       "1                                            {}   \n",
       "2                                            {}   \n",
       "3  {\"Cam\\\\'ron\",\"Kanye West\",\"Syleena Johnson\"}   \n",
       "4                                            {}   \n",
       "\n",
       "                                              lyrics  id language_cld3  \\\n",
       "0  [Chorus: Opera Steve & Cam'ron]\\nKilla Cam, Ki...   1            en   \n",
       "1  [Produced by Irv Gotti]\\n\\n[Intro]\\nYeah, hah,...   3            en   \n",
       "2  Maybe cause I'm eatin\\nAnd these bastards fien...   4            en   \n",
       "3  [Produced by Kanye West and Brian Miller]\\n\\n[...   5            en   \n",
       "4  [Intro]\\nSo they ask me\\n\"Young boy\\nWhat you ...   6            en   \n",
       "\n",
       "  language_ft language  \n",
       "0          en       en  \n",
       "1          en       en  \n",
       "2          en       en  \n",
       "3          en       en  \n",
       "4          en       en  "
      ]
     },
     "execution_count": 4,
     "metadata": {},
     "output_type": "execute_result"
    }
   ],
   "source": [
    "print(f\"number of songs: {len(df)}\")\n",
    "df.head()"
   ]
  },
  {
   "cell_type": "markdown",
   "metadata": {},
   "source": [
    "# Preprocessing"
   ]
  },
  {
   "cell_type": "code",
   "execution_count": 5,
   "metadata": {},
   "outputs": [
    {
     "name": "stderr",
     "output_type": "stream",
     "text": [
      "[nltk_data] Downloading package punkt to /Users/ffactory/nltk_data...\n",
      "[nltk_data]   Package punkt is already up-to-date!\n",
      "[nltk_data] Downloading package stopwords to\n",
      "[nltk_data]     /Users/ffactory/nltk_data...\n",
      "[nltk_data]   Package stopwords is already up-to-date!\n"
     ]
    },
    {
     "data": {
      "text/plain": [
       "True"
      ]
     },
     "execution_count": 5,
     "metadata": {},
     "output_type": "execute_result"
    }
   ],
   "source": [
    "nltk.download(\"punkt\")\n",
    "nltk.download('stopwords')"
   ]
  },
  {
   "cell_type": "code",
   "execution_count": 43,
   "metadata": {},
   "outputs": [],
   "source": [
    "ps = PorterStemmer()\n",
    "\n",
    "def lyricsPreprocessing(df):\n",
    "    stopwords_en = stopwords.words('english')\n",
    "\n",
    "    df_proc = df.copy()\n",
    "    df_proc.rename(columns={\"lyrics\": \"Tokens\"}, inplace=True)\n",
    "\n",
    "    # Convert to lowercase\n",
    "    df_proc[\"Tokens\"] = df_proc[\"Tokens\"].str.lower()\n",
    "    # Remove text between square brackets and any non alphanumeric / whitespace characters\n",
    "    df_proc[\"Tokens\"] = df_proc[\"Tokens\"].str.replace(re.compile(r\"\\[.{0,100}\\]|[^\\w\\s]\"), \"\", regex=True)\n",
    "    # Split text into words\n",
    "    df_proc[\"Tokens\"] = df_proc[\"Tokens\"].str.rsplit()\n",
    "    # Remove stopwords and stem tokens\n",
    "    df_proc[\"Tokens\"] = df_proc[\"Tokens\"].apply(\n",
    "        lambda tokens: [ps.stem(token) for token in tokens if token.isalnum() and token not in stopwords_en]\n",
    "    )\n",
    "    \n",
    "    return df_proc"
   ]
  },
  {
   "cell_type": "code",
   "execution_count": 41,
   "metadata": {},
   "outputs": [],
   "source": [
    "df_proc = lyricsPreprocessing(df)"
   ]
  },
  {
   "cell_type": "code",
   "execution_count": 42,
   "metadata": {},
   "outputs": [
    {
     "data": {
      "text/plain": [
       "('haha, uhhuh, homo, young, mula, babi, say, he, sweet, make, wanna, lick, wrapper, remix, babi, lollipop, lollipop, breasts, like, dolli',\n",
       " '[Intro: Lil Wayne]\\nHaha\\nUh-huh\\nNo homo (Young Mula, baby!)\\nI say, he\\'s so sweet, make her wanna lick the wrapper\\nRemix, baby!\\n\\n[Verse 1: Kanye West]\\nLollipop, lollipop, breastses just like Dolly Parton\\nShe ride my spaceship \\'til she hit the top\\nThat hit the spot\\n\\'Til she ask, \"How many li-i-li-i-licks do it take\" \\'til she get to shop?\\nDon\\'t worry why my wrists got so freeze\\nTell a girl, \"Like Doritos, that\\'s not \\'cho cheese\"\\nTell her friends, \"Like Fritos, I\\'m tryin\\' to lay\"\\nI can\\'t only have one, and I ain\\'t trying to wait\\nThis a song with Wayne, so you know it\\'s gon\\' melt\\nBut you ain\\'t finna murder me like everybody else\\nI\\'ma rap like I got some type respect for myself\\nI don\\'t do it for my health, man, I do it for the belt\\nMan, I do it to the death, \\'til the roof get melt\\nHundred degrees, drop the roof, so the coupe don\\'t melt\\nMan, the flow so cold, chicken soup won\\'t help\\nWe need four more hoes, we need oh, oh, oh, oh!\\nYou know what it is when we out of town\\nWe balling too serious, and you out of bounds\\nSo come here, baby girl\\nYou\\'re now fucking with the best in the world\\n[Break: Kanye West & Static Major]\\nLollipop\\nThe best in the world\\nSh-Sh-She lick me like a lollipop\\nWorld, world\\nShe— She lick me like a lollipop\\n\\n[Chorus: Static Major, Lil Wayne, & Both]\\nShawty want a thug, thug, thug\\nBottles in the club, club, club (Bottles in the club)\\nShawty wanna hump (Shawty wanna)\\nYou know I like to touch (Shawty wanna)\\nYour lovely lady lumps, lumps, lumps (Shawty wanna)\\nShawty want a thug (I like that)\\nBottles in the club (Hey, I like that)\\nShawty wanna hump (I like that, haha!)\\nYou know I like to touch your lovely lady lumps, lumps, lumps\\n\\n[Verse 2: Lil Wayne]\\nShawty say she wanna lick the wrapper\\nAnd she gonna lick the rapper\\nAnd I just wanna act like a porno-flicking actor\\nI Anita-bake her; now, she caught up in that \"Rapture\"\\nI got so much chips, I swear, they call me \"Hewlett Packard\"\\nI got so much chips, you can have a bag if you\\'re a snacker\\nGreedy mother-fudge cake; now, tell me how that fudge tastes\\nI do it for Bloods\\' sake—soo-woo!\\nThink it\\'s voodoo how that roof do di-di-dissipate\\nYour girl want to participate\\nShe so, so sophisticate, \\'cause her brain is off the chain\\nAnd then, my diamonds are in the choir because they sing from off my chain\\nAnd my Nina just joined the gang because all she do is bang\\nLike Ricky Martin; Wayne and Kanye: pick your poison\\nIf that woman wanna cut, then tell her I am Mr. Ointment\\nTell her to make an appointment with Mr. I-Can\\'t-Make-An-Appointment\\nTake my lollipop and enjoy it—remix!\\n[Chorus: Static Major, Lil Wayne, & Both]\\nShawty want a thug, thug, thug (Shawty want a thug, yeah!)\\nBottles in the club, club, club (Bottles in the club, yeah!)\\nShawty wanna hump (Yeah! Shawty wanna)\\nYou know I like to touch (Yeah! Shawty wanna)\\nYour lovely lady lumps, lumps, lumps (Shawty wanna)\\nShawty want a thug (I like that)\\nBottles in the club (Hey, I like that)\\nShawty wanna hump (I like that, haha!)\\nYou know I like to touch your lovely lady lumps, lumps, lumps\\n\\n[Verse 3: Lil Wayne]\\nWhy would she? She probably be the odd cookie\\nIn the plastic bag \\'bout to get crushed by a building\\nI\\'ve flushed out the feeling of me being the shit\\n\\'Cause I was leaving skid marks on everywhere I sit\\nI am everywhere, I\\'m it, like Hide-and-Go\\nAnd I can go anywhere: eeny, mini, miney, mo\\nI\\'m in your neighborhood, area, CD-thing, tapedeck\\n\\u200biPod, your girlfriend, and she say I got great sex\\nSafe sex is great sex, better wear a latex\\n\\'Cause you don\\'t want that late text, that \"I think I\\'m late\" text\\nHaha! So wrap it up!\\nBu-Bu-But he\\'s so sweet, sh-she wanna lick the wrapper\\n\\n[Chorus: Static Major & Lil Wayne]\\nShawty want a thug\\nBottles in the club, club, club\\nShawty wanna hump\\nYou know I like to touch\\nYour lovely lady lumps, lumps, lumps (Re-Re-Re-Remix, baby!)\\n[Outro: Static Major]\\nLick me like a lollipop (Lollipop)\\nShe— She lick me like a lollipop (L-Lollipop)\\nSh-Sh-Sh-She lick me like a lollipop (Lollipop)\\nShe— She lick me like a lollipop (Lollipop)')"
      ]
     },
     "execution_count": 42,
     "metadata": {},
     "output_type": "execute_result"
    }
   ],
   "source": [
    "(\", \".join(df_proc.iloc[5][\"Tokens\"][:20]), df.iloc[5][\"lyrics\"])"
   ]
  },
  {
   "cell_type": "markdown",
   "metadata": {},
   "source": [
    "# Generate Query (still a lot to do)"
   ]
  },
  {
   "cell_type": "code",
   "execution_count": null,
   "metadata": {},
   "outputs": [],
   "source": []
  }
 ],
 "metadata": {
  "kernelspec": {
   "display_name": "Python 3",
   "language": "python",
   "name": "python3"
  },
  "language_info": {
   "codemirror_mode": {
    "name": "ipython",
    "version": 3
   },
   "file_extension": ".py",
   "mimetype": "text/x-python",
   "name": "python",
   "nbconvert_exporter": "python",
   "pygments_lexer": "ipython3",
   "version": "3.11.6"
  }
 },
 "nbformat": 4,
 "nbformat_minor": 2
}
